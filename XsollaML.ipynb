{
 "cells": [
  {
   "cell_type": "code",
   "execution_count": 52,
   "metadata": {
    "collapsed": true
   },
   "outputs": [],
   "source": [
    "import pandas as pd\n",
    "import numpy as np\n",
    "from nltk.stem import PorterStemmer # В итоге не использовал, потому что не умею корректно обрабатывать\n",
    "from nltk.tokenize import sent_tokenize, word_tokenize\n",
    "import string\n",
    "import re"
   ]
  },
  {
   "cell_type": "markdown",
   "metadata": {},
   "source": [
    "Регулярка для удаления символов"
   ]
  },
  {
   "cell_type": "code",
   "execution_count": 53,
   "metadata": {
    "collapsed": true
   },
   "outputs": [],
   "source": [
    "reg = re.compile('[^a-zA-Z ]')\n",
    "path = 'data/dataset.json'"
   ]
  },
  {
   "cell_type": "code",
   "execution_count": 54,
   "metadata": {
    "collapsed": true
   },
   "outputs": [],
   "source": [
    "data = pd.read_json(path)"
   ]
  },
  {
   "cell_type": "markdown",
   "metadata": {},
   "source": [
    "Удаляем все символы из данных и получаем список всех слов"
   ]
  },
  {
   "cell_type": "code",
   "execution_count": 55,
   "metadata": {
    "collapsed": true
   },
   "outputs": [],
   "source": [
    "all_words = np.concatenate(data['text'].apply(lambda s: reg.sub('',s.strip().lower()).split()).values)"
   ]
  },
  {
   "cell_type": "markdown",
   "metadata": {},
   "source": [
    "Избавляемся от коротких слов, т.к. они скорее всего стоп слова"
   ]
  },
  {
   "cell_type": "code",
   "execution_count": 56,
   "metadata": {
    "collapsed": true
   },
   "outputs": [],
   "source": [
    "all_words = [i for i in all_words if ( len(i) > 3 )]"
   ]
  },
  {
   "cell_type": "markdown",
   "metadata": {},
   "source": [
    "В задаче написано \"Стоп слова получить из текста\". Поэтому список сформировн из слов, которые часто использовались.\n",
    "А можно было взять из nltk.corpus.stopwords.words('russian')"
   ]
  },
  {
   "cell_type": "code",
   "execution_count": 57,
   "metadata": {
    "collapsed": true
   },
   "outputs": [],
   "source": [
    "stop_words = [\"this\",\"very\",\"with\",\"your\",\"that\",\"have\",\"dont\",\"just\",\"will\",\"more\",\"much\",\"when\",\"cant\", \"than\", 'want']"
   ]
  },
  {
   "cell_type": "markdown",
   "metadata": {},
   "source": [
    "В задаче не сказано сколько слов самых популярных слов необходимо вывести.\n",
    "Для примера выведено 30 слов"
   ]
  },
  {
   "cell_type": "code",
   "execution_count": 58,
   "metadata": {},
   "outputs": [
    {
     "data": {
      "text/plain": [
       "game         44799\n",
       "good         12122\n",
       "best          9555\n",
       "nice          8674\n",
       "play          7936\n",
       "ever          5622\n",
       "like          4101\n",
       "life          3409\n",
       "great         3389\n",
       "love          2976\n",
       "time          2914\n",
       "played        2691\n",
       "moba          2462\n",
       "awesome       2346\n",
       "playing       2288\n",
       "games         2104\n",
       "community     2017\n",
       "still         1724\n",
       "toxic         1722\n",
       "really        1700\n",
       "better        1682\n",
       "would         1634\n",
       "ggwp          1604\n",
       "cancer        1584\n",
       "people        1528\n",
       "hours         1526\n",
       "addictive     1513\n",
       "players       1428\n",
       "well          1382\n",
       "shit          1311\n",
       "dtype: int64"
      ]
     },
     "execution_count": 58,
     "metadata": {},
     "output_type": "execute_result"
    }
   ],
   "source": [
    "words_series = pd.Series(all_words)\n",
    "words_series[~words_series.isin(stop_words)].value_counts().head(30)"
   ]
  },
  {
   "cell_type": "code",
   "execution_count": null,
   "metadata": {
    "collapsed": true
   },
   "outputs": [],
   "source": []
  }
 ],
 "metadata": {
  "kernelspec": {
   "display_name": "Python 3",
   "language": "python",
   "name": "python3"
  },
  "language_info": {
   "codemirror_mode": {
    "name": "ipython",
    "version": 3
   },
   "file_extension": ".py",
   "mimetype": "text/x-python",
   "name": "python",
   "nbconvert_exporter": "python",
   "pygments_lexer": "ipython3",
   "version": "3.6.1"
  }
 },
 "nbformat": 4,
 "nbformat_minor": 2
}
